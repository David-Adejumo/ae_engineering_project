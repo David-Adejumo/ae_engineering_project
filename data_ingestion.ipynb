{
 "cells": [
  {
   "cell_type": "code",
   "execution_count": 16,
   "id": "9dfe45d7",
   "metadata": {},
   "outputs": [
    {
     "name": "stdout",
     "output_type": "stream",
     "text": [
      "    order_id customer_id  order_date product_category  product_name  quantity  \\\n",
      "0  ORD-00001    CUST-126  2022-12-31            Books  History Book         1   \n",
      "1  ORD-00002    CUST-171  2023-07-14       Home Goods       Blender         3   \n",
      "2  ORD-00003    CUST-140  2023-02-17         Clothing         Dress         1   \n",
      "3  ORD-00004    CUST-390  2023-08-01      Electronics    Headphones         5   \n",
      "4  ORD-00005    CUST-311  2023-08-07  Food & Beverage   Protein Bar         1   \n",
      "\n",
      "   price_per_unit  discount_applied delivery_status  \n",
      "0          316.12               0.2        Returned  \n",
      "1           81.15               0.0       Cancelled  \n",
      "2          227.48               0.0         Pending  \n",
      "3          169.12               0.0       Delivered  \n",
      "4          380.31               0.0         Shipped  \n",
      "SQLite connection closed\n"
     ]
    }
   ],
   "source": [
    "import csv\n",
    "import sqlite3\n",
    "import pandas as pd\n",
    "\n",
    "try:\n",
    "    # Import CSV and extract data\n",
    "    with open(\"C:/Users/Adejumod/Desktop/customer_orders.csv\", 'r') as fin:\n",
    "        dr = csv.DictReader(fin)\n",
    "        customer_db = [(i['order_id'], i['customer_id'], i['order_date'], i['product_category'], i['product_name'], i['quantity'], i['price_per_unit'], i['discount_applied'], i['delivery_status']) for i in dr]\n",
    "\n",
    "    # Connect to SQLite\n",
    "    sqliteConnection = sqlite3.connect('etl_staging.db')\n",
    "    cursor = sqliteConnection.cursor()\n",
    "\n",
    "    # Create customer Inventory table\n",
    "    cursor.execute(\"\"\"\n",
    "    CREATE TABLE IF NOT EXISTS customer (\n",
    "        order_id VARCHAR(200),\n",
    "        customer_id VARCHAR(200),\n",
    "        order_date DATETIME,\n",
    "        product_category VARCHAR(200),\n",
    "        product_name VARCHAR(200),\n",
    "        quantity INTEGER,\n",
    "        price_per_unit INTEGER,\n",
    "        discount_applied INTEGER,\n",
    "        delivery_status VARCHAR(200)\n",
    "    );\n",
    "    \"\"\")\n",
    "\n",
    "    # Insert data into the table\n",
    "    cursor.executemany(\"\"\"\n",
    "    INSERT INTO customer (order_id, customer_id, order_date, product_category, product_name, quantity, price_per_unit, discount_applied, delivery_status)\n",
    "    VALUES (?, ?, ?, ?, ?, ?, ?, ?, ?)\n",
    "    \"\"\", customer_db)\n",
    "\n",
    "    # Commit the data to db\n",
    "    sqliteConnection.commit()\n",
    "\n",
    "   \n",
    "    cursor.execute('SELECT * FROM customer limit 5;')\n",
    "    result = cursor.fetchall()\n",
    "    \n",
    "\n",
    "    # Define column names\n",
    "    columns = ['order_id', 'customer_id', 'order_date', 'product_category', 'product_name', 'quantity', 'price_per_unit', 'discount_applied', 'delivery_status']\n",
    "\n",
    "    # Convert to DataFrame for tabular display\n",
    "    df = pd.DataFrame(result, columns=columns)\n",
    "    print(df)\n",
    "\n",
    "except sqlite3.Error as error:\n",
    "    print('Error occurred -', error)\n",
    "\n",
    "finally:\n",
    "    if sqliteConnection:\n",
    "        sqliteConnection.close()\n",
    "        print('SQLite connection closed')\n"
   ]
  }
 ],
 "metadata": {
  "kernelspec": {
   "display_name": "Python 3",
   "language": "python",
   "name": "python3"
  },
  "language_info": {
   "codemirror_mode": {
    "name": "ipython",
    "version": 3
   },
   "file_extension": ".py",
   "mimetype": "text/x-python",
   "name": "python",
   "nbconvert_exporter": "python",
   "pygments_lexer": "ipython3",
   "version": "3.10.7"
  }
 },
 "nbformat": 4,
 "nbformat_minor": 5
}
